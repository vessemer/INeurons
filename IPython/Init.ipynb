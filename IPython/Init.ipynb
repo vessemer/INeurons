{
 "cells": [
  {
   "cell_type": "code",
   "execution_count": 1,
   "id": "932271bc-363c-43ef-a027-f22ecac67bc0",
   "metadata": {},
   "outputs": [],
   "source": [
    "import anndata2ri\n",
    "import rpy2.rinterface_lib.callbacks\n",
    "import logging\n",
    "\n",
    "import numpy as np\n",
    "import pandas as pd\n",
    "import scanpy as sc\n",
    "from scipy.sparse import csr_matrix, isspmatrix\n",
    "\n",
    "import matplotlib.pyplot as plt\n",
    "import scanpy.external as sce\n",
    "\n",
    "from datetime import datetime"
   ]
  },
  {
   "cell_type": "code",
   "execution_count": 2,
   "id": "74377121-5c95-4abb-a862-625767c4f5b5",
   "metadata": {
    "tags": []
   },
   "outputs": [
    {
     "name": "stdout",
     "output_type": "stream",
     "text": [
      "Scanpy version:  1.9.3\n",
      "Pandas version:  2.0.3\n",
      "2023-11-02 03:47:31.483319\n"
     ]
    }
   ],
   "source": [
    "print(\"Scanpy version: \", sc.__version__)\n",
    "print(\"Pandas version: \", pd.__version__)\n",
    "anndata2ri.activate()\n",
    "time_start = datetime.now()\n",
    "print(time_start)"
   ]
  },
  {
   "cell_type": "code",
   "execution_count": 3,
   "id": "e01f206f-021a-472d-a8fc-5d7be1845831",
   "metadata": {
    "tags": []
   },
   "outputs": [],
   "source": [
    "import sys\n",
    "sys.path.append('..')\n",
    "\n",
    "from src.configs import config\n",
    "%load_ext autoreload\n",
    "%autoreload 2"
   ]
  },
  {
   "cell_type": "code",
   "execution_count": 4,
   "id": "72fb9eb9-8b41-4d8e-a70a-a1233fdcfae7",
   "metadata": {},
   "outputs": [],
   "source": [
    "%load_ext rpy2.ipython\n",
    "\n",
    "# Ignore R warning messages\n",
    "rpy2.rinterface_lib.callbacks.logger.setLevel(logging.ERROR)\n",
    "#Note: this can be commented out to get more verbose R output\n",
    "sc.settings.verbosity = 3\n",
    "sc.settings.set_figure_params(dpi=120)"
   ]
  },
  {
   "cell_type": "markdown",
   "id": "7ce82a4a-621d-4ac0-a7e2-22f57d98ff6a",
   "metadata": {},
   "source": [
    "# Read Counts Data"
   ]
  },
  {
   "cell_type": "markdown",
   "id": "ca700366-6dd8-4121-9558-a3f37399c98b",
   "metadata": {
    "tags": []
   },
   "source": [
    "## E-MATB Dataset"
   ]
  },
  {
   "cell_type": "code",
   "execution_count": 5,
   "id": "9971074c-72ed-4099-a5f3-33f5673891ba",
   "metadata": {
    "tags": []
   },
   "outputs": [
    {
     "data": {
      "text/plain": [
       "0.10552045042553092"
      ]
     },
     "execution_count": 5,
     "metadata": {},
     "output_type": "execute_result"
    }
   ],
   "source": [
    "data = pd.read_csv(config.PATHS.EMATB/'iNeuron_all_cells_UMIcouts.csv')\n",
    "data.index = pd.Index(data.iloc[:, 0])\n",
    "data.drop(['Unnamed: 0'], axis=1, inplace=True)\n",
    "data = data.astype(pd.SparseDtype(int, 0))\n",
    "data.sparse.density"
   ]
  },
  {
   "cell_type": "code",
   "execution_count": 6,
   "id": "c881c423-7841-43be-869c-91dfad74839d",
   "metadata": {
    "tags": []
   },
   "outputs": [],
   "source": [
    "ann_data = sc.AnnData(X=data.T)\n",
    "ann_data.obs.index = data.columns\n",
    "ann_data.var.index = data.index"
   ]
  },
  {
   "cell_type": "code",
   "execution_count": 7,
   "id": "706e8930-19e3-4621-aced-4081cf9a9915",
   "metadata": {
    "tags": []
   },
   "outputs": [
    {
     "data": {
      "text/html": [
       "<div>\n",
       "<style scoped>\n",
       "    .dataframe tbody tr th:only-of-type {\n",
       "        vertical-align: middle;\n",
       "    }\n",
       "\n",
       "    .dataframe tbody tr th {\n",
       "        vertical-align: top;\n",
       "    }\n",
       "\n",
       "    .dataframe thead th {\n",
       "        text-align: right;\n",
       "    }\n",
       "</style>\n",
       "<table border=\"1\" class=\"dataframe\">\n",
       "  <thead>\n",
       "    <tr style=\"text-align: right;\">\n",
       "      <th></th>\n",
       "      <th>cell_id</th>\n",
       "      <th>timepoint</th>\n",
       "      <th>line</th>\n",
       "      <th>10X_date</th>\n",
       "      <th>clusters</th>\n",
       "      <th>tSNE_1</th>\n",
       "      <th>tSNE_2</th>\n",
       "    </tr>\n",
       "  </thead>\n",
       "  <tbody>\n",
       "    <tr>\n",
       "      <th>0</th>\n",
       "      <td>AAACCCAAGATAGCAT.1.d35_h9_200818</td>\n",
       "      <td>d35</td>\n",
       "      <td>h9</td>\n",
       "      <td>200818</td>\n",
       "      <td>C1</td>\n",
       "      <td>-43.575724</td>\n",
       "      <td>37.239965</td>\n",
       "    </tr>\n",
       "    <tr>\n",
       "      <th>1</th>\n",
       "      <td>AAACCCAAGCCTGAGA.1.d14_sc102a1_200920</td>\n",
       "      <td>d14</td>\n",
       "      <td>sc102a1</td>\n",
       "      <td>200920</td>\n",
       "      <td>C7</td>\n",
       "      <td>48.554482</td>\n",
       "      <td>54.936585</td>\n",
       "    </tr>\n",
       "    <tr>\n",
       "      <th>2</th>\n",
       "      <td>AAACCCAAGGCTGAAC.1.d35_h9_200818</td>\n",
       "      <td>d35</td>\n",
       "      <td>h9</td>\n",
       "      <td>200818</td>\n",
       "      <td>C2</td>\n",
       "      <td>-60.552954</td>\n",
       "      <td>-2.594599</td>\n",
       "    </tr>\n",
       "    <tr>\n",
       "      <th>3</th>\n",
       "      <td>AAACCCAAGTGCAACG.1.d35b2_bmrna_200908</td>\n",
       "      <td>d35b2</td>\n",
       "      <td>bmrna</td>\n",
       "      <td>200908</td>\n",
       "      <td>C7</td>\n",
       "      <td>47.740916</td>\n",
       "      <td>43.250069</td>\n",
       "    </tr>\n",
       "    <tr>\n",
       "      <th>4</th>\n",
       "      <td>AAACCCACACAGTACT.1.d35_h9_200818</td>\n",
       "      <td>d35</td>\n",
       "      <td>h9</td>\n",
       "      <td>200818</td>\n",
       "      <td>C2</td>\n",
       "      <td>-73.776997</td>\n",
       "      <td>3.398855</td>\n",
       "    </tr>\n",
       "  </tbody>\n",
       "</table>\n",
       "</div>"
      ],
      "text/plain": [
       "                                 cell_id timepoint     line  10X_date  \\\n",
       "0       AAACCCAAGATAGCAT.1.d35_h9_200818       d35       h9    200818   \n",
       "1  AAACCCAAGCCTGAGA.1.d14_sc102a1_200920       d14  sc102a1    200920   \n",
       "2       AAACCCAAGGCTGAAC.1.d35_h9_200818       d35       h9    200818   \n",
       "3  AAACCCAAGTGCAACG.1.d35b2_bmrna_200908     d35b2    bmrna    200908   \n",
       "4       AAACCCACACAGTACT.1.d35_h9_200818       d35       h9    200818   \n",
       "\n",
       "  clusters     tSNE_1     tSNE_2  \n",
       "0       C1 -43.575724  37.239965  \n",
       "1       C7  48.554482  54.936585  \n",
       "2       C2 -60.552954  -2.594599  \n",
       "3       C7  47.740916  43.250069  \n",
       "4       C2 -73.776997   3.398855  "
      ]
     },
     "execution_count": 7,
     "metadata": {},
     "output_type": "execute_result"
    }
   ],
   "source": [
    "# Add Barcode and Gene annotation\n",
    "meta = pd.read_csv(config.PATHS.EMATB/'iNeuron_all_cells_metadata.csv')\n",
    "meta.drop(['Unnamed: 0'], axis=1, inplace=True)\n",
    "meta.head()"
   ]
  },
  {
   "cell_type": "markdown",
   "id": "a2f329b8-68f9-4d18-b2d3-ac56718dd587",
   "metadata": {},
   "source": [
    "### Check for non-matching barcodes"
   ]
  },
  {
   "cell_type": "code",
   "execution_count": 8,
   "id": "2e46d652-7f1a-4fc6-88d4-57dddd731a9e",
   "metadata": {},
   "outputs": [
    {
     "name": "stdout",
     "output_type": "stream",
     "text": [
      "36034\n",
      "Empty DataFrame\n",
      "Columns: [timepoint, line, 10X_date, clusters, tSNE_1, tSNE_2]\n",
      "Index: []\n"
     ]
    },
    {
     "data": {
      "text/plain": [
       "View of AnnData object with n_obs × n_vars = 36034 × 23454\n",
       "    obs: 'timepoint', 'line', '10X_date', 'clusters', 'tSNE_1', 'tSNE_2'"
      ]
     },
     "execution_count": 8,
     "metadata": {},
     "output_type": "execute_result"
    }
   ],
   "source": [
    "# Set the index as the cell barcode\n",
    "meta = meta.set_index('cell_id').copy()\n",
    "# then order the meta data to match adata\n",
    "metaOrd = meta.reindex(ann_data.obs.index)\n",
    "print(len(metaOrd))\n",
    "\n",
    "#Save to filter later\n",
    "strange_barcodes = set(ann_data.obs.index).difference(set(meta.index))\n",
    "print(metaOrd[metaOrd.index.isin(strange_barcodes) == True])\n",
    "\n",
    "ann_data.obs = metaOrd\n",
    "keep_cells = ann_data.obs.drop(strange_barcodes).index\n",
    "#Filter out strange barcodes\n",
    "ann_data = ann_data[ann_data.obs_names.isin(keep_cells)]\n",
    "ann_data"
   ]
  },
  {
   "cell_type": "markdown",
   "id": "af7809c8-4d87-4dc5-a7c2-3672e15e4b96",
   "metadata": {},
   "source": [
    "there is no mismatched barcodes"
   ]
  },
  {
   "cell_type": "code",
   "execution_count": 9,
   "id": "9696b765-fef5-47e1-9a02-c196a61ed74e",
   "metadata": {},
   "outputs": [],
   "source": [
    "# check on the sparse matrix \n",
    "if isspmatrix(ann_data.X) == False:\n",
    "    ann_data.X = csr_matrix(ann_data.X)\n",
    "    print('Converted adata.X to', type(ann_data.X))"
   ]
  },
  {
   "cell_type": "code",
   "execution_count": 10,
   "id": "d20ddb62-c81c-4afe-ade6-80162bbd91e9",
   "metadata": {},
   "outputs": [
    {
     "name": "stderr",
     "output_type": "stream",
     "text": [
      "/tmp/ipykernel_536262/2602906112.py:1: ImplicitModificationWarning: Trying to modify attribute `.obs` of view, initializing view as actual.\n",
      "  ann_data.obs['cluster'] = ann_data.obs['clusters'].copy()\n"
     ]
    },
    {
     "data": {
      "text/html": [
       "<div>\n",
       "<style scoped>\n",
       "    .dataframe tbody tr th:only-of-type {\n",
       "        vertical-align: middle;\n",
       "    }\n",
       "\n",
       "    .dataframe tbody tr th {\n",
       "        vertical-align: top;\n",
       "    }\n",
       "\n",
       "    .dataframe thead th {\n",
       "        text-align: right;\n",
       "    }\n",
       "</style>\n",
       "<table border=\"1\" class=\"dataframe\">\n",
       "  <thead>\n",
       "    <tr style=\"text-align: right;\">\n",
       "      <th></th>\n",
       "      <th>timepoint</th>\n",
       "      <th>line</th>\n",
       "      <th>10X_date</th>\n",
       "      <th>clusters</th>\n",
       "      <th>tSNE_1</th>\n",
       "      <th>tSNE_2</th>\n",
       "      <th>cluster</th>\n",
       "    </tr>\n",
       "  </thead>\n",
       "  <tbody>\n",
       "    <tr>\n",
       "      <th>AAACCTGAGACCTAGG-4.d5_409b2_171212</th>\n",
       "      <td>d5</td>\n",
       "      <td>409b2</td>\n",
       "      <td>171212</td>\n",
       "      <td>C8</td>\n",
       "      <td>-89.187002</td>\n",
       "      <td>19.220198</td>\n",
       "      <td>C8</td>\n",
       "    </tr>\n",
       "    <tr>\n",
       "      <th>AAACCTGAGTCCGTAT-4.d5_409b2_171212</th>\n",
       "      <td>d5</td>\n",
       "      <td>409b2</td>\n",
       "      <td>171212</td>\n",
       "      <td>C5</td>\n",
       "      <td>48.413219</td>\n",
       "      <td>-12.483613</td>\n",
       "      <td>C5</td>\n",
       "    </tr>\n",
       "    <tr>\n",
       "      <th>AAACCTGGTATCTGCA-4.d5_409b2_171212</th>\n",
       "      <td>d5</td>\n",
       "      <td>409b2</td>\n",
       "      <td>171212</td>\n",
       "      <td>C5</td>\n",
       "      <td>86.033093</td>\n",
       "      <td>-7.297135</td>\n",
       "      <td>C5</td>\n",
       "    </tr>\n",
       "    <tr>\n",
       "      <th>AAACCTGTCATAAAGG-4.d5_409b2_171212</th>\n",
       "      <td>d5</td>\n",
       "      <td>409b2</td>\n",
       "      <td>171212</td>\n",
       "      <td>C8</td>\n",
       "      <td>-99.750682</td>\n",
       "      <td>15.862280</td>\n",
       "      <td>C8</td>\n",
       "    </tr>\n",
       "    <tr>\n",
       "      <th>AAACCTGTCGTTGCCT-4.d5_409b2_171212</th>\n",
       "      <td>d5</td>\n",
       "      <td>409b2</td>\n",
       "      <td>171212</td>\n",
       "      <td>C7</td>\n",
       "      <td>34.884410</td>\n",
       "      <td>62.724772</td>\n",
       "      <td>C7</td>\n",
       "    </tr>\n",
       "  </tbody>\n",
       "</table>\n",
       "</div>"
      ],
      "text/plain": [
       "                                   timepoint   line  10X_date clusters  \\\n",
       "AAACCTGAGACCTAGG-4.d5_409b2_171212        d5  409b2    171212       C8   \n",
       "AAACCTGAGTCCGTAT-4.d5_409b2_171212        d5  409b2    171212       C5   \n",
       "AAACCTGGTATCTGCA-4.d5_409b2_171212        d5  409b2    171212       C5   \n",
       "AAACCTGTCATAAAGG-4.d5_409b2_171212        d5  409b2    171212       C8   \n",
       "AAACCTGTCGTTGCCT-4.d5_409b2_171212        d5  409b2    171212       C7   \n",
       "\n",
       "                                       tSNE_1     tSNE_2 cluster  \n",
       "AAACCTGAGACCTAGG-4.d5_409b2_171212 -89.187002  19.220198      C8  \n",
       "AAACCTGAGTCCGTAT-4.d5_409b2_171212  48.413219 -12.483613      C5  \n",
       "AAACCTGGTATCTGCA-4.d5_409b2_171212  86.033093  -7.297135      C5  \n",
       "AAACCTGTCATAAAGG-4.d5_409b2_171212 -99.750682  15.862280      C8  \n",
       "AAACCTGTCGTTGCCT-4.d5_409b2_171212  34.884410  62.724772      C7  "
      ]
     },
     "execution_count": 10,
     "metadata": {},
     "output_type": "execute_result"
    }
   ],
   "source": [
    "ann_data.obs['cluster'] = ann_data.obs['clusters'].copy()\n",
    "#adata.obs.dtypes\n",
    "ann_data.obs.head()"
   ]
  },
  {
   "cell_type": "code",
   "execution_count": 11,
   "id": "f31a02fc-15a3-4dde-bd25-9ebc0f924482",
   "metadata": {
    "tags": []
   },
   "outputs": [],
   "source": [
    "ann_data.obs['timepoint_mapped'] = ann_data.obs['timepoint'].apply(\n",
    "    lambda x: config.TIMEPOINT_MAP[x])\n",
    "if config.PROTO.DATASETS.BATCH_FROM_TIMEPOINT:\n",
    "    ann_data.obs['batch'] = ann_data.obs['timepoint'].apply(\n",
    "        lambda x: 'b{}'.format(config.BATCH_MAP[x]))\n",
    "else:\n",
    "    ann_data.obs['batch'] = [ \n",
    "        idx.split('_')[-1] for idx in ann_data.obs.index ]\n",
    "    ann_data.obs.batch += '_b' + ann_data.obs.timepoint.apply(lambda x: str(config.BATCH_MAP[x]))\n",
    "\n",
    "ann_data.obs['dataset'] = 'EMATB'"
   ]
  },
  {
   "cell_type": "code",
   "execution_count": 12,
   "id": "0bf822af-9580-413a-8206-de8934dfacf1",
   "metadata": {},
   "outputs": [
    {
     "data": {
      "text/html": [
       "<div>\n",
       "<style scoped>\n",
       "    .dataframe tbody tr th:only-of-type {\n",
       "        vertical-align: middle;\n",
       "    }\n",
       "\n",
       "    .dataframe tbody tr th {\n",
       "        vertical-align: top;\n",
       "    }\n",
       "\n",
       "    .dataframe thead th {\n",
       "        text-align: right;\n",
       "    }\n",
       "</style>\n",
       "<table border=\"1\" class=\"dataframe\">\n",
       "  <thead>\n",
       "    <tr style=\"text-align: right;\">\n",
       "      <th>cluster</th>\n",
       "      <th>C1</th>\n",
       "      <th>C2</th>\n",
       "      <th>C3</th>\n",
       "      <th>C4</th>\n",
       "      <th>C5</th>\n",
       "      <th>C6</th>\n",
       "      <th>C7</th>\n",
       "      <th>C8</th>\n",
       "    </tr>\n",
       "    <tr>\n",
       "      <th>timepoint_mapped</th>\n",
       "      <th></th>\n",
       "      <th></th>\n",
       "      <th></th>\n",
       "      <th></th>\n",
       "      <th></th>\n",
       "      <th></th>\n",
       "      <th></th>\n",
       "      <th></th>\n",
       "    </tr>\n",
       "  </thead>\n",
       "  <tbody>\n",
       "    <tr>\n",
       "      <th>5</th>\n",
       "      <td>316</td>\n",
       "      <td>220</td>\n",
       "      <td>429</td>\n",
       "      <td>138</td>\n",
       "      <td>962</td>\n",
       "      <td>484</td>\n",
       "      <td>791</td>\n",
       "      <td>131</td>\n",
       "    </tr>\n",
       "    <tr>\n",
       "      <th>14</th>\n",
       "      <td>763</td>\n",
       "      <td>467</td>\n",
       "      <td>924</td>\n",
       "      <td>129</td>\n",
       "      <td>1752</td>\n",
       "      <td>458</td>\n",
       "      <td>910</td>\n",
       "      <td>317</td>\n",
       "    </tr>\n",
       "    <tr>\n",
       "      <th>28</th>\n",
       "      <td>1323</td>\n",
       "      <td>650</td>\n",
       "      <td>1060</td>\n",
       "      <td>127</td>\n",
       "      <td>2309</td>\n",
       "      <td>887</td>\n",
       "      <td>1457</td>\n",
       "      <td>203</td>\n",
       "    </tr>\n",
       "    <tr>\n",
       "      <th>35</th>\n",
       "      <td>3039</td>\n",
       "      <td>3750</td>\n",
       "      <td>3979</td>\n",
       "      <td>330</td>\n",
       "      <td>2227</td>\n",
       "      <td>1397</td>\n",
       "      <td>2557</td>\n",
       "      <td>1548</td>\n",
       "    </tr>\n",
       "  </tbody>\n",
       "</table>\n",
       "</div>"
      ],
      "text/plain": [
       "cluster             C1    C2    C3   C4    C5    C6    C7    C8\n",
       "timepoint_mapped                                               \n",
       "5                  316   220   429  138   962   484   791   131\n",
       "14                 763   467   924  129  1752   458   910   317\n",
       "28                1323   650  1060  127  2309   887  1457   203\n",
       "35                3039  3750  3979  330  2227  1397  2557  1548"
      ]
     },
     "execution_count": 12,
     "metadata": {},
     "output_type": "execute_result"
    }
   ],
   "source": [
    "tab = pd.crosstab(\n",
    "    ann_data.obs['timepoint_mapped'], ann_data.obs['cluster'])\n",
    "tab"
   ]
  },
  {
   "cell_type": "code",
   "execution_count": 13,
   "id": "27fe4369-e96e-49ff-88b9-2cd04fb949fc",
   "metadata": {
    "tags": []
   },
   "outputs": [
    {
     "data": {
      "text/plain": [
       "<matplotlib.image.AxesImage at 0x7feeadfb5d90>"
      ]
     },
     "execution_count": 13,
     "metadata": {},
     "output_type": "execute_result"
    },
    {
     "data": {
      "image/png": "[encoded data removed]",
      "text/plain": [
       "<Figure size 960x480 with 1 Axes>"
      ]
     },
     "metadata": {
      "image/png": {
       "height": 436,
       "width": 794
      }
     },
     "output_type": "display_data"
    }
   ],
   "source": [
    "plt.matshow(tab.values / tab.sum(0).values[np.newaxis])"
   ]
  },
  {
   "cell_type": "code",
   "execution_count": 14,
   "id": "a86b737c-2468-4780-ad3b-b59a49efa1ed",
   "metadata": {},
   "outputs": [
    {
     "name": "stdout",
     "output_type": "stream",
     "text": [
      "0:06:46.157764\n"
     ]
    }
   ],
   "source": [
    "ann_data.write(config.PATHS.CSV/'EMATB.h5ad')\n",
    "print(datetime.now() - time_start)"
   ]
  },
  {
   "cell_type": "markdown",
   "id": "21557956-ba22-4906-85b3-a92e6d5a7f6f",
   "metadata": {
    "tags": []
   },
   "source": [
    "## Mendeley Dataset"
   ]
  },
  {
   "cell_type": "code",
   "execution_count": 15,
   "id": "d4ca29ac-3526-4413-bb31-2bbb09daff9c",
   "metadata": {
    "tags": []
   },
   "outputs": [],
   "source": [
    "import scipy.io\n",
    "sp_matrix = scipy.io.mmread(config.PATHS.MENDELEY/\"counts.mtx\")\n",
    "sp_matrix = csr_matrix(sp_matrix)\n",
    "\n",
    "meta = pd.read_csv(config.PATHS.MENDELEY/\"meta.tsv\", sep='\\t')\n",
    "features = pd.read_csv(\n",
    "    config.PATHS.MENDELEY/\"features.tsv\", sep='\\t', names=['features'])"
   ]
  },
  {
   "cell_type": "code",
   "execution_count": 16,
   "id": "4389925d-cdab-4776-880f-3b2245699267",
   "metadata": {
    "tags": []
   },
   "outputs": [
    {
     "data": {
      "text/plain": [
       "AnnData object with n_obs × n_vars = 3866 × 17546\n",
       "    obs: 'nGene', 'nUMI', 'sample', 'batch', 'timepoint', 'line', 'percent.mito', 'percent.ribo', 'integrated_snn_res.0.3_merged', 'alt_cell_name', 'nVector', 'expr_exoNgn2'"
      ]
     },
     "execution_count": 16,
     "metadata": {},
     "output_type": "execute_result"
    }
   ],
   "source": [
    "adata = sc.AnnData(X=sp_matrix.T)\n",
    "adata.obs = meta\n",
    "adata.var.index = features.iloc[:, 0].values\n",
    "adata"
   ]
  },
  {
   "cell_type": "code",
   "execution_count": 17,
   "id": "c5d6dccd-756f-4c5b-9584-34e0953cf0b6",
   "metadata": {
    "tags": []
   },
   "outputs": [],
   "source": [
    "timecourse = config.PATHS.MENDELEY/'..'/'timecourse'\n",
    "sp_matrix = scipy.io.mmread(timecourse/\"counts.mtx\")\n",
    "sp_matrix = csr_matrix(sp_matrix)\n",
    "\n",
    "meta = pd.read_csv(timecourse/\"meta.tsv\", sep='\\t')\n",
    "features = pd.read_csv(\n",
    "    timecourse/\"features.tsv\", sep='\\t', names=['features'])"
   ]
  },
  {
   "cell_type": "code",
   "execution_count": 18,
   "id": "a742c665-8379-43aa-9544-225edda6fd53",
   "metadata": {
    "tags": []
   },
   "outputs": [
    {
     "data": {
      "text/plain": [
       "AnnData object with n_obs × n_vars = 29554 × 17546\n",
       "    obs: 'nGene', 'nUMI', 'sample', 'batch', 'timepoint', 'line', 'percent.mito', 'percent.ribo', 'seurat_clusters', 'pseudocell_group', 'alt_cell_name', 'pt_dm'"
      ]
     },
     "execution_count": 18,
     "metadata": {},
     "output_type": "execute_result"
    }
   ],
   "source": [
    "bdata = sc.AnnData(X=sp_matrix.T)\n",
    "bdata.obs = meta\n",
    "bdata.var.index = features.iloc[:, 0].values\n",
    "bdata"
   ]
  },
  {
   "cell_type": "code",
   "execution_count": 19,
   "id": "0f12e8a2-a330-4880-80d0-f7c24ee4ab66",
   "metadata": {
    "tags": []
   },
   "outputs": [
    {
     "data": {
      "text/plain": [
       "View of AnnData object with n_obs × n_vars = 2876 × 17546\n",
       "    obs: 'nGene', 'nUMI', 'sample', 'batch', 'timepoint', 'line', 'percent.mito', 'percent.ribo', 'integrated_snn_res.0.3_merged', 'alt_cell_name', 'nVector', 'expr_exoNgn2'"
      ]
     },
     "execution_count": 19,
     "metadata": {},
     "output_type": "execute_result"
    }
   ],
   "source": [
    "doublecated = adata.obs.index.intersection(bdata.obs.index)\n",
    "adata = adata[~adata.obs_names.isin(doublecated)]\n",
    "adata"
   ]
  },
  {
   "cell_type": "code",
   "execution_count": 20,
   "id": "cfeb4d94-660a-4b88-be46-b4d3041a1051",
   "metadata": {
    "tags": []
   },
   "outputs": [],
   "source": [
    "ann_data = sc.concat([adata, bdata])"
   ]
  },
  {
   "cell_type": "code",
   "execution_count": 21,
   "id": "09c9432a-14e0-41c7-abe6-b67b97e1e39b",
   "metadata": {
    "tags": []
   },
   "outputs": [
    {
     "data": {
      "text/html": [
       "<div>\n",
       "<style scoped>\n",
       "    .dataframe tbody tr th:only-of-type {\n",
       "        vertical-align: middle;\n",
       "    }\n",
       "\n",
       "    .dataframe tbody tr th {\n",
       "        vertical-align: top;\n",
       "    }\n",
       "\n",
       "    .dataframe thead th {\n",
       "        text-align: right;\n",
       "    }\n",
       "</style>\n",
       "<table border=\"1\" class=\"dataframe\">\n",
       "  <thead>\n",
       "    <tr style=\"text-align: right;\">\n",
       "      <th></th>\n",
       "      <th>nGene</th>\n",
       "      <th>nUMI</th>\n",
       "      <th>sample</th>\n",
       "      <th>batch</th>\n",
       "      <th>timepoint</th>\n",
       "      <th>line</th>\n",
       "      <th>percent.mito</th>\n",
       "      <th>percent.ribo</th>\n",
       "      <th>alt_cell_name</th>\n",
       "      <th>timepoint_mapped</th>\n",
       "      <th>cluster</th>\n",
       "      <th>dataset</th>\n",
       "    </tr>\n",
       "  </thead>\n",
       "  <tbody>\n",
       "    <tr>\n",
       "      <th>AAACCTGAGAGTCTGG-1</th>\n",
       "      <td>2080</td>\n",
       "      <td>5207</td>\n",
       "      <td>180410_d35</td>\n",
       "      <td>b180410</td>\n",
       "      <td>w5</td>\n",
       "      <td>409b2_clone</td>\n",
       "      <td>0.018053</td>\n",
       "      <td>0</td>\n",
       "      <td>AAACCTGAGAGTCTGG-180410_d35</td>\n",
       "      <td>35</td>\n",
       "      <td>b180410</td>\n",
       "      <td>MEDELEY</td>\n",
       "    </tr>\n",
       "    <tr>\n",
       "      <th>AAACCTGAGTGTGGCA-1</th>\n",
       "      <td>1400</td>\n",
       "      <td>2737</td>\n",
       "      <td>180410_d35</td>\n",
       "      <td>b180410</td>\n",
       "      <td>w5</td>\n",
       "      <td>sc102a1</td>\n",
       "      <td>0.081476</td>\n",
       "      <td>0</td>\n",
       "      <td>AAACCTGAGTGTGGCA-180410_d35</td>\n",
       "      <td>35</td>\n",
       "      <td>b180410</td>\n",
       "      <td>MEDELEY</td>\n",
       "    </tr>\n",
       "    <tr>\n",
       "      <th>AAACCTGCAATGTTGC-1</th>\n",
       "      <td>1229</td>\n",
       "      <td>2424</td>\n",
       "      <td>180410_d35</td>\n",
       "      <td>b180410</td>\n",
       "      <td>w5</td>\n",
       "      <td>409b2_clone</td>\n",
       "      <td>0.012789</td>\n",
       "      <td>0</td>\n",
       "      <td>AAACCTGCAATGTTGC-180410_d35</td>\n",
       "      <td>35</td>\n",
       "      <td>b180410</td>\n",
       "      <td>MEDELEY</td>\n",
       "    </tr>\n",
       "    <tr>\n",
       "      <th>AAACCTGCAGGTCGTC-1</th>\n",
       "      <td>3969</td>\n",
       "      <td>14072</td>\n",
       "      <td>180410_d35</td>\n",
       "      <td>b180410</td>\n",
       "      <td>w5</td>\n",
       "      <td>409b2_clone</td>\n",
       "      <td>0.012081</td>\n",
       "      <td>0</td>\n",
       "      <td>AAACCTGCAGGTCGTC-180410_d35</td>\n",
       "      <td>35</td>\n",
       "      <td>b180410</td>\n",
       "      <td>MEDELEY</td>\n",
       "    </tr>\n",
       "    <tr>\n",
       "      <th>AAACCTGGTTTGTTGG-1</th>\n",
       "      <td>3286</td>\n",
       "      <td>10665</td>\n",
       "      <td>180410_d35</td>\n",
       "      <td>b180410</td>\n",
       "      <td>w5</td>\n",
       "      <td>sc102a1</td>\n",
       "      <td>0.054571</td>\n",
       "      <td>0</td>\n",
       "      <td>AAACCTGGTTTGTTGG-180410_d35</td>\n",
       "      <td>35</td>\n",
       "      <td>b180410</td>\n",
       "      <td>MEDELEY</td>\n",
       "    </tr>\n",
       "  </tbody>\n",
       "</table>\n",
       "</div>"
      ],
      "text/plain": [
       "                    nGene   nUMI      sample    batch timepoint         line  \\\n",
       "AAACCTGAGAGTCTGG-1   2080   5207  180410_d35  b180410        w5  409b2_clone   \n",
       "AAACCTGAGTGTGGCA-1   1400   2737  180410_d35  b180410        w5      sc102a1   \n",
       "AAACCTGCAATGTTGC-1   1229   2424  180410_d35  b180410        w5  409b2_clone   \n",
       "AAACCTGCAGGTCGTC-1   3969  14072  180410_d35  b180410        w5  409b2_clone   \n",
       "AAACCTGGTTTGTTGG-1   3286  10665  180410_d35  b180410        w5      sc102a1   \n",
       "\n",
       "                    percent.mito  percent.ribo                alt_cell_name  \\\n",
       "AAACCTGAGAGTCTGG-1      0.018053             0  AAACCTGAGAGTCTGG-180410_d35   \n",
       "AAACCTGAGTGTGGCA-1      0.081476             0  AAACCTGAGTGTGGCA-180410_d35   \n",
       "AAACCTGCAATGTTGC-1      0.012789             0  AAACCTGCAATGTTGC-180410_d35   \n",
       "AAACCTGCAGGTCGTC-1      0.012081             0  AAACCTGCAGGTCGTC-180410_d35   \n",
       "AAACCTGGTTTGTTGG-1      0.054571             0  AAACCTGGTTTGTTGG-180410_d35   \n",
       "\n",
       "                    timepoint_mapped  cluster  dataset  \n",
       "AAACCTGAGAGTCTGG-1                35  b180410  MEDELEY  \n",
       "AAACCTGAGTGTGGCA-1                35  b180410  MEDELEY  \n",
       "AAACCTGCAATGTTGC-1                35  b180410  MEDELEY  \n",
       "AAACCTGCAGGTCGTC-1                35  b180410  MEDELEY  \n",
       "AAACCTGGTTTGTTGG-1                35  b180410  MEDELEY  "
      ]
     },
     "execution_count": 21,
     "metadata": {},
     "output_type": "execute_result"
    }
   ],
   "source": [
    "ann_data.obs['timepoint_mapped'] = ann_data.obs['timepoint'].apply(\n",
    "    lambda x: config.TIMEPOINT_MAP[x])\n",
    "ann_data.obs['batch'] = ann_data.obs['batch'].apply(\n",
    "    lambda x: 'b{}'.format(x))\n",
    "ann_data.obs['cluster'] = ann_data.obs['batch']\n",
    "ann_data.obs['dataset'] = 'MEDELEY'\n",
    "ann_data.obs.head()"
   ]
  },
  {
   "cell_type": "code",
   "execution_count": 22,
   "id": "0a0a4775-179d-47ce-95d5-78dfa747de43",
   "metadata": {},
   "outputs": [
    {
     "name": "stdout",
     "output_type": "stream",
     "text": [
      "0:08:25.764202\n"
     ]
    }
   ],
   "source": [
    "ann_data.write(config.PATHS.CSV/'MENDELEY.h5ad')\n",
    "print(datetime.now() - time_start)"
   ]
  },
  {
   "cell_type": "markdown",
   "id": "652402da-1dfe-41b5-aa9b-1d7d028e1db3",
   "metadata": {},
   "source": [
    "# Open Dataset"
   ]
  },
  {
   "cell_type": "code",
   "execution_count": 23,
   "id": "ca306cc8-c5ee-4153-aebf-f7d5e63dfc59",
   "metadata": {},
   "outputs": [],
   "source": [
    "input_file = str(config.PATHS.OPEN/'raw_counts_mat.rdata')"
   ]
  },
  {
   "cell_type": "code",
   "execution_count": 24,
   "id": "4844f933-ad09-4df6-a29e-8e638c1f3f3a",
   "metadata": {},
   "outputs": [
    {
     "name": "stdout",
     "output_type": "stream",
     "text": [
      "[1] \"dgCMatrix\"\n",
      "attr(,\"package\")\n",
      "[1] \"Matrix\"\n"
     ]
    },
    {
     "data": {
      "text/plain": [
       "In addition: Warning message:\n",
       "In (function (package, help, pos = 2, lib.loc = NULL, character.only = FALSE,  :\n",
       "  libraries ‘/usr/local/lib/R/site-library’, ‘/usr/lib/R/site-library’ contain no packages\n"
      ]
     },
     "metadata": {},
     "output_type": "display_data"
    }
   ],
   "source": [
    "%%R -i input_file -o raw_counts_mat\n",
    "\n",
    "load(input_file)\n",
    "class(raw_counts_mat)"
   ]
  },
  {
   "cell_type": "code",
   "execution_count": 25,
   "id": "dbca68a9-7657-4bef-b052-02f7a1c8fb6c",
   "metadata": {},
   "outputs": [],
   "source": [
    "%%R -o genes -o cells\n",
    "\n",
    "#Store names as vectors to set as indexes later\n",
    "genes <- rownames(raw_counts_mat)\n",
    "cells <- colnames(raw_counts_mat)"
   ]
  },
  {
   "cell_type": "code",
   "execution_count": 26,
   "id": "71e0682e-d030-46c5-9083-d7843f0ff08b",
   "metadata": {},
   "outputs": [
    {
     "data": {
      "text/plain": [
       "<33986x35543 sparse matrix of type '<class 'numpy.float64'>'\n",
       "\twith 35635307 stored elements in Compressed Sparse Row format>"
      ]
     },
     "execution_count": 26,
     "metadata": {},
     "output_type": "execute_result"
    }
   ],
   "source": [
    "# We have the counts as sparse matrix\n",
    "raw_counts_mat = raw_counts_mat.T\n",
    "raw_counts_mat #Compressed Sparse Column format"
   ]
  },
  {
   "cell_type": "code",
   "execution_count": 27,
   "id": "fdb13387-be9f-4044-ac5d-eac4239a0ce2",
   "metadata": {},
   "outputs": [],
   "source": [
    "ann_data =  sc.AnnData(X=raw_counts_mat)\n",
    "ann_data.obs.index = cells\n",
    "ann_data.var.index = genes"
   ]
  },
  {
   "cell_type": "code",
   "execution_count": 28,
   "id": "c454ac82-7546-4aeb-829b-b57ca0ebd54d",
   "metadata": {},
   "outputs": [
    {
     "data": {
      "text/html": [
       "<div>\n",
       "<style scoped>\n",
       "    .dataframe tbody tr th:only-of-type {\n",
       "        vertical-align: middle;\n",
       "    }\n",
       "\n",
       "    .dataframe tbody tr th {\n",
       "        vertical-align: top;\n",
       "    }\n",
       "\n",
       "    .dataframe thead th {\n",
       "        text-align: right;\n",
       "    }\n",
       "</style>\n",
       "<table border=\"1\" class=\"dataframe\">\n",
       "  <thead>\n",
       "    <tr style=\"text-align: right;\">\n",
       "      <th></th>\n",
       "      <th>Cell</th>\n",
       "      <th>Cluster</th>\n",
       "      <th>Subcluster</th>\n",
       "      <th>Donor</th>\n",
       "      <th>Layer</th>\n",
       "      <th>Gestation_week</th>\n",
       "      <th>Index</th>\n",
       "      <th>Library</th>\n",
       "      <th>Number_genes_detected</th>\n",
       "      <th>Number_UMI</th>\n",
       "      <th>Percentage_mitochondrial</th>\n",
       "      <th>S_phase_score</th>\n",
       "      <th>G2M_phase_score</th>\n",
       "      <th>Phase</th>\n",
       "    </tr>\n",
       "  </thead>\n",
       "  <tbody>\n",
       "    <tr>\n",
       "      <th>0</th>\n",
       "      <td>TGCTAATACTGA</td>\n",
       "      <td>vRG</td>\n",
       "      <td>vRG_0</td>\n",
       "      <td>368</td>\n",
       "      <td>CP</td>\n",
       "      <td>17</td>\n",
       "      <td>N701</td>\n",
       "      <td>Plath</td>\n",
       "      <td>1366</td>\n",
       "      <td>2736</td>\n",
       "      <td>4.20</td>\n",
       "      <td>-0.11</td>\n",
       "      <td>-0.073</td>\n",
       "      <td>G1</td>\n",
       "    </tr>\n",
       "    <tr>\n",
       "      <th>1</th>\n",
       "      <td>TTCACGATTTTT</td>\n",
       "      <td>vRG</td>\n",
       "      <td>vRG_2</td>\n",
       "      <td>368</td>\n",
       "      <td>GZ</td>\n",
       "      <td>17</td>\n",
       "      <td>N702</td>\n",
       "      <td>Plath</td>\n",
       "      <td>3012</td>\n",
       "      <td>7318</td>\n",
       "      <td>1.87</td>\n",
       "      <td>0.83</td>\n",
       "      <td>0.350</td>\n",
       "      <td>S</td>\n",
       "    </tr>\n",
       "    <tr>\n",
       "      <th>2</th>\n",
       "      <td>CTGTCAGAATAA</td>\n",
       "      <td>vRG</td>\n",
       "      <td>vRG_2</td>\n",
       "      <td>368</td>\n",
       "      <td>GZ</td>\n",
       "      <td>17</td>\n",
       "      <td>N702</td>\n",
       "      <td>Plath</td>\n",
       "      <td>1597</td>\n",
       "      <td>3451</td>\n",
       "      <td>2.17</td>\n",
       "      <td>-0.13</td>\n",
       "      <td>-0.110</td>\n",
       "      <td>G1</td>\n",
       "    </tr>\n",
       "    <tr>\n",
       "      <th>3</th>\n",
       "      <td>CATAATATGTCA</td>\n",
       "      <td>vRG</td>\n",
       "      <td>vRG_0</td>\n",
       "      <td>368</td>\n",
       "      <td>GZ</td>\n",
       "      <td>17</td>\n",
       "      <td>N702</td>\n",
       "      <td>Plath</td>\n",
       "      <td>1551</td>\n",
       "      <td>2941</td>\n",
       "      <td>1.43</td>\n",
       "      <td>0.38</td>\n",
       "      <td>0.064</td>\n",
       "      <td>S</td>\n",
       "    </tr>\n",
       "    <tr>\n",
       "      <th>4</th>\n",
       "      <td>TGCCAATCCGTT</td>\n",
       "      <td>vRG</td>\n",
       "      <td>vRG_0</td>\n",
       "      <td>368</td>\n",
       "      <td>GZ</td>\n",
       "      <td>17</td>\n",
       "      <td>N702</td>\n",
       "      <td>Plath</td>\n",
       "      <td>1569</td>\n",
       "      <td>2769</td>\n",
       "      <td>1.81</td>\n",
       "      <td>-0.04</td>\n",
       "      <td>-0.170</td>\n",
       "      <td>G1</td>\n",
       "    </tr>\n",
       "  </tbody>\n",
       "</table>\n",
       "</div>"
      ],
      "text/plain": [
       "           Cell Cluster Subcluster  Donor Layer  Gestation_week Index Library  \\\n",
       "0  TGCTAATACTGA     vRG      vRG_0    368    CP              17  N701   Plath   \n",
       "1  TTCACGATTTTT     vRG      vRG_2    368    GZ              17  N702   Plath   \n",
       "2  CTGTCAGAATAA     vRG      vRG_2    368    GZ              17  N702   Plath   \n",
       "3  CATAATATGTCA     vRG      vRG_0    368    GZ              17  N702   Plath   \n",
       "4  TGCCAATCCGTT     vRG      vRG_0    368    GZ              17  N702   Plath   \n",
       "\n",
       "   Number_genes_detected  Number_UMI  Percentage_mitochondrial  S_phase_score  \\\n",
       "0                   1366        2736                      4.20          -0.11   \n",
       "1                   3012        7318                      1.87           0.83   \n",
       "2                   1597        3451                      2.17          -0.13   \n",
       "3                   1551        2941                      1.43           0.38   \n",
       "4                   1569        2769                      1.81          -0.04   \n",
       "\n",
       "   G2M_phase_score Phase  \n",
       "0           -0.073    G1  \n",
       "1            0.350     S  \n",
       "2           -0.110    G1  \n",
       "3            0.064     S  \n",
       "4           -0.170    G1  "
      ]
     },
     "execution_count": 28,
     "metadata": {},
     "output_type": "execute_result"
    }
   ],
   "source": [
    "# 4. Add Barcode and Gene annotation\n",
    "meta = pd.read_csv(config.PATHS.OPEN/'cell_metadata.csv')\n",
    "meta.head()"
   ]
  },
  {
   "cell_type": "markdown",
   "id": "f1b254a4-6070-4c46-9acf-a4e5cc947f92",
   "metadata": {},
   "source": [
    "### Check for non-matching barcodes"
   ]
  },
  {
   "cell_type": "code",
   "execution_count": 29,
   "id": "10bed2f7-fdfc-40f0-a0c2-3cc2e4719e1b",
   "metadata": {},
   "outputs": [],
   "source": [
    "# Set the index as the cell barcode\n",
    "meta = meta.set_index('Cell').copy()\n",
    "# then order the meta data to match adata\n",
    "metaOrd = meta.reindex(ann_data.obs.index)\n",
    "\n",
    "#Save to filter later\n",
    "strange_barcodes = set(ann_data.obs.index).difference(set(meta.index))\n",
    "metaOrd[metaOrd.index.isin(strange_barcodes) == True]\n",
    "\n",
    "# Attach to obs\n",
    "ann_data.obs = metaOrd.copy()\n",
    "keep_cells = ann_data.obs.drop(strange_barcodes).index\n",
    "\n",
    "# Filter out strange barcodes\n",
    "ann_data = ann_data[ann_data.obs_names.isin(keep_cells)]"
   ]
  },
  {
   "cell_type": "markdown",
   "id": "de289a83-e017-45c7-80d3-2b5a63815d77",
   "metadata": {},
   "source": [
    "**Check that the matrix is sparse**"
   ]
  },
  {
   "cell_type": "code",
   "execution_count": 30,
   "id": "5e78e766-cf88-4e06-8f57-178b1f9b152c",
   "metadata": {},
   "outputs": [],
   "source": [
    "# Check on the sparse matrix \n",
    "if isspmatrix(ann_data.X) == False:\n",
    "    ann_data.X = csr_matrix(ann_data.X)\n",
    "    print('Converted adata.X to', type(ann_data.X))"
   ]
  },
  {
   "cell_type": "code",
   "execution_count": 31,
   "id": "2a3d6cea-ed97-4e5f-9573-889bfedb7932",
   "metadata": {},
   "outputs": [
    {
     "name": "stderr",
     "output_type": "stream",
     "text": [
      "/tmp/ipykernel_536262/204051031.py:1: ImplicitModificationWarning: Trying to modify attribute `.obs` of view, initializing view as actual.\n",
      "  ann_data.obs['line'] = ann_data.obs['Donor']\n"
     ]
    },
    {
     "data": {
      "text/html": [
       "<div>\n",
       "<style scoped>\n",
       "    .dataframe tbody tr th:only-of-type {\n",
       "        vertical-align: middle;\n",
       "    }\n",
       "\n",
       "    .dataframe tbody tr th {\n",
       "        vertical-align: top;\n",
       "    }\n",
       "\n",
       "    .dataframe thead th {\n",
       "        text-align: right;\n",
       "    }\n",
       "</style>\n",
       "<table border=\"1\" class=\"dataframe\">\n",
       "  <thead>\n",
       "    <tr style=\"text-align: right;\">\n",
       "      <th></th>\n",
       "      <th>Cluster</th>\n",
       "      <th>Subcluster</th>\n",
       "      <th>Donor</th>\n",
       "      <th>Layer</th>\n",
       "      <th>Gestation_week</th>\n",
       "      <th>Index</th>\n",
       "      <th>Library</th>\n",
       "      <th>Number_genes_detected</th>\n",
       "      <th>Number_UMI</th>\n",
       "      <th>Percentage_mitochondrial</th>\n",
       "      <th>S_phase_score</th>\n",
       "      <th>G2M_phase_score</th>\n",
       "      <th>Phase</th>\n",
       "      <th>line</th>\n",
       "      <th>cluster</th>\n",
       "      <th>timepoint</th>\n",
       "      <th>timepoint_mapped</th>\n",
       "      <th>dataset</th>\n",
       "    </tr>\n",
       "  </thead>\n",
       "  <tbody>\n",
       "    <tr>\n",
       "      <th>CGCCGTACGTTC</th>\n",
       "      <td>ExM</td>\n",
       "      <td>ExM_1</td>\n",
       "      <td>368.0</td>\n",
       "      <td>CP</td>\n",
       "      <td>17.0</td>\n",
       "      <td>N701</td>\n",
       "      <td>Plath</td>\n",
       "      <td>3056.0</td>\n",
       "      <td>9036.0</td>\n",
       "      <td>3.18</td>\n",
       "      <td>-0.0075</td>\n",
       "      <td>-0.12</td>\n",
       "      <td>G1</td>\n",
       "      <td>S_368</td>\n",
       "      <td>ExM</td>\n",
       "      <td>w17</td>\n",
       "      <td>119</td>\n",
       "      <td>OPEN</td>\n",
       "    </tr>\n",
       "    <tr>\n",
       "      <th>TCAGCGTGGACA</th>\n",
       "      <td>End</td>\n",
       "      <td>End_0</td>\n",
       "      <td>368.0</td>\n",
       "      <td>CP</td>\n",
       "      <td>17.0</td>\n",
       "      <td>N701</td>\n",
       "      <td>Plath</td>\n",
       "      <td>3144.0</td>\n",
       "      <td>7280.0</td>\n",
       "      <td>3.46</td>\n",
       "      <td>-0.0900</td>\n",
       "      <td>-0.18</td>\n",
       "      <td>G1</td>\n",
       "      <td>S_368</td>\n",
       "      <td>End</td>\n",
       "      <td>w17</td>\n",
       "      <td>119</td>\n",
       "      <td>OPEN</td>\n",
       "    </tr>\n",
       "    <tr>\n",
       "      <th>TATGCTTATGTC</th>\n",
       "      <td>ExM</td>\n",
       "      <td>ExM_1</td>\n",
       "      <td>368.0</td>\n",
       "      <td>CP</td>\n",
       "      <td>17.0</td>\n",
       "      <td>N701</td>\n",
       "      <td>Plath</td>\n",
       "      <td>2778.0</td>\n",
       "      <td>7908.0</td>\n",
       "      <td>3.63</td>\n",
       "      <td>-0.0290</td>\n",
       "      <td>-0.22</td>\n",
       "      <td>G1</td>\n",
       "      <td>S_368</td>\n",
       "      <td>ExM</td>\n",
       "      <td>w17</td>\n",
       "      <td>119</td>\n",
       "      <td>OPEN</td>\n",
       "    </tr>\n",
       "    <tr>\n",
       "      <th>TCAGCGTGGACT</th>\n",
       "      <td>End</td>\n",
       "      <td>End_3</td>\n",
       "      <td>368.0</td>\n",
       "      <td>CP</td>\n",
       "      <td>17.0</td>\n",
       "      <td>N701</td>\n",
       "      <td>Plath</td>\n",
       "      <td>2936.0</td>\n",
       "      <td>6687.0</td>\n",
       "      <td>3.14</td>\n",
       "      <td>-0.0850</td>\n",
       "      <td>-0.21</td>\n",
       "      <td>G1</td>\n",
       "      <td>S_368</td>\n",
       "      <td>End</td>\n",
       "      <td>w17</td>\n",
       "      <td>119</td>\n",
       "      <td>OPEN</td>\n",
       "    </tr>\n",
       "    <tr>\n",
       "      <th>GATTACCTTATA</th>\n",
       "      <td>ExM</td>\n",
       "      <td>ExM_1</td>\n",
       "      <td>368.0</td>\n",
       "      <td>CP</td>\n",
       "      <td>17.0</td>\n",
       "      <td>N701</td>\n",
       "      <td>Plath</td>\n",
       "      <td>2586.0</td>\n",
       "      <td>7111.0</td>\n",
       "      <td>4.21</td>\n",
       "      <td>-0.1200</td>\n",
       "      <td>-0.16</td>\n",
       "      <td>G1</td>\n",
       "      <td>S_368</td>\n",
       "      <td>ExM</td>\n",
       "      <td>w17</td>\n",
       "      <td>119</td>\n",
       "      <td>OPEN</td>\n",
       "    </tr>\n",
       "  </tbody>\n",
       "</table>\n",
       "</div>"
      ],
      "text/plain": [
       "             Cluster Subcluster  Donor Layer  Gestation_week Index Library  \\\n",
       "CGCCGTACGTTC     ExM      ExM_1  368.0    CP            17.0  N701   Plath   \n",
       "TCAGCGTGGACA     End      End_0  368.0    CP            17.0  N701   Plath   \n",
       "TATGCTTATGTC     ExM      ExM_1  368.0    CP            17.0  N701   Plath   \n",
       "TCAGCGTGGACT     End      End_3  368.0    CP            17.0  N701   Plath   \n",
       "GATTACCTTATA     ExM      ExM_1  368.0    CP            17.0  N701   Plath   \n",
       "\n",
       "              Number_genes_detected  Number_UMI  Percentage_mitochondrial  \\\n",
       "CGCCGTACGTTC                 3056.0      9036.0                      3.18   \n",
       "TCAGCGTGGACA                 3144.0      7280.0                      3.46   \n",
       "TATGCTTATGTC                 2778.0      7908.0                      3.63   \n",
       "TCAGCGTGGACT                 2936.0      6687.0                      3.14   \n",
       "GATTACCTTATA                 2586.0      7111.0                      4.21   \n",
       "\n",
       "              S_phase_score  G2M_phase_score Phase   line cluster timepoint  \\\n",
       "CGCCGTACGTTC        -0.0075            -0.12    G1  S_368     ExM       w17   \n",
       "TCAGCGTGGACA        -0.0900            -0.18    G1  S_368     End       w17   \n",
       "TATGCTTATGTC        -0.0290            -0.22    G1  S_368     ExM       w17   \n",
       "TCAGCGTGGACT        -0.0850            -0.21    G1  S_368     End       w17   \n",
       "GATTACCTTATA        -0.1200            -0.16    G1  S_368     ExM       w17   \n",
       "\n",
       "              timepoint_mapped dataset  \n",
       "CGCCGTACGTTC               119    OPEN  \n",
       "TCAGCGTGGACA               119    OPEN  \n",
       "TATGCTTATGTC               119    OPEN  \n",
       "TCAGCGTGGACT               119    OPEN  \n",
       "GATTACCTTATA               119    OPEN  "
      ]
     },
     "execution_count": 31,
     "metadata": {},
     "output_type": "execute_result"
    }
   ],
   "source": [
    "ann_data.obs['line'] = ann_data.obs['Donor']\n",
    "ann_data.obs.line = 'S_' + ann_data.obs.line.astype(\n",
    "    'int64').astype('str')\n",
    "ann_data.obs['cluster'] = ann_data.obs['Cluster']\n",
    "\n",
    "ann_data.obs['timepoint'] = ann_data.obs['Gestation_week'].apply(\n",
    "    lambda x: 'w{}'.format(int(x)))\n",
    "ann_data.obs['timepoint_mapped'] = ann_data.obs['timepoint'].apply(\n",
    "    lambda x: config.TIMEPOINT_MAP[x])\n",
    "\n",
    "ann_data.obs['dataset'] = 'OPEN'\n",
    "ann_data.obs.head()"
   ]
  },
  {
   "cell_type": "code",
   "execution_count": 32,
   "id": "ce220f3e-abe0-44f8-a32d-0e1dc609d353",
   "metadata": {},
   "outputs": [
    {
     "data": {
      "text/plain": [
       "<Axes: xlabel='Gestation_week'>"
      ]
     },
     "execution_count": 32,
     "metadata": {},
     "output_type": "execute_result"
    },
    {
     "data": {
      "image/png": "[encoded data removed]",
      "text/plain": [
       "<Figure size 480x480 with 1 Axes>"
      ]
     },
     "metadata": {
      "image/png": {
       "height": 482,
       "width": 484
      }
     },
     "output_type": "display_data"
    }
   ],
   "source": [
    "### Gestation week\n",
    "ann_data.obs['Gestation_week'].value_counts()\n",
    "ann_data.obs['Gestation_week'].value_counts().plot.bar()"
   ]
  },
  {
   "cell_type": "code",
   "execution_count": 33,
   "id": "f4fa16fb-f801-47e3-891a-5e22893e9515",
   "metadata": {},
   "outputs": [
    {
     "name": "stdout",
     "output_type": "stream",
     "text": [
      "0:08:39.308813\n"
     ]
    }
   ],
   "source": [
    "ann_data.write(config.PATHS.CSV/'OPEN.h5ad')\n",
    "print(datetime.now() - time_start)"
   ]
  }
 ],
 "metadata": {
  "kernelspec": {
   "display_name": "Python 3 (ipykernel)",
   "language": "python",
   "name": "python3"
  },
  "language_info": {
   "codemirror_mode": {
    "name": "ipython",
    "version": 3
   },
   "file_extension": ".py",
   "mimetype": "text/x-python",
   "name": "python",
   "nbconvert_exporter": "python",
   "pygments_lexer": "ipython3",
   "version": "3.9.16"
  }
 },
 "nbformat": 4,
 "nbformat_minor": 5
}
