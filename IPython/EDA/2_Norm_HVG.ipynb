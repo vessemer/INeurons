{
 "cells": [
  {
   "cell_type": "code",
   "execution_count": 1,
   "id": "01d2c398-3a41-4128-b9f5-a11e8f352095",
   "metadata": {
    "tags": []
   },
   "outputs": [],
   "source": [
    "import warnings\n",
    "warnings.filterwarnings(\"ignore\")"
   ]
  },
  {
   "cell_type": "code",
   "execution_count": 2,
   "id": "9cecb0a9-ea49-415c-ba13-4c0fbd56ff58",
   "metadata": {
    "tags": []
   },
   "outputs": [],
   "source": [
    "import numpy as np\n",
    "import pandas as pd\n",
    "import igraph as ig\n",
    "import scanpy as sc\n",
    "import scanpy.external as sce\n",
    "import triku as tk\n",
    "\n",
    "#Plotting\n",
    "import seaborn as sns\n",
    "import matplotlib.pyplot as plt\n",
    "\n",
    "#utils\n",
    "from datetime import datetime\n",
    "from scipy.sparse import csr_matrix, isspmatrix\n",
    "\n",
    "sc.settings.verbosity = 3\n",
    "sc.settings.set_figure_params(dpi=80)\n",
    "time_start = datetime.now()"
   ]
  },
  {
   "cell_type": "code",
   "execution_count": 3,
   "id": "96cac09d-cdd8-462e-b1cc-df9981856cb1",
   "metadata": {
    "tags": []
   },
   "outputs": [],
   "source": [
    "import sys\n",
    "sys.path.append('../..')\n",
    "\n",
    "from src.configs import config\n",
    "from src.utils import utils as us\n",
    "from src.utils import visualise as vs\n",
    "%load_ext autoreload\n",
    "%autoreload 2\n",
    "warnings.filterwarnings(\"once\")"
   ]
  },
  {
   "cell_type": "markdown",
   "id": "6bc97bb2-9cc5-4c68-a926-dc75dec4e50c",
   "metadata": {},
   "source": [
    "# Data Load"
   ]
  },
  {
   "cell_type": "code",
   "execution_count": 4,
   "id": "be2bc2a7-4a8e-47fc-9f59-658f6a09d128",
   "metadata": {
    "tags": []
   },
   "outputs": [
    {
     "name": "stdout",
     "output_type": "stream",
     "text": [
      "(34314, 14783)\n",
      "isspmatrix: True\n",
      "Loaded Filtered AnnData object: number of cells 34314\n",
      "Loaded Filtered AnnData object: number of genes 14783\n",
      "Available metadata for each cell:  Index(['timepoint', 'line', 'cluster', 'timepoint_mapped', 'batch', 'dataset',\n",
      "       'isHuman', 'isESC', 'n_genes_by_counts', 'total_counts',\n",
      "       'total_counts_mito', 'pct_counts_mito', 'total_counts_ribo',\n",
      "       'pct_counts_ribo', 'QC_doublets', 'n_genes', 'n_counts'],\n",
      "      dtype='object')\n"
     ]
    }
   ],
   "source": [
    "adata = sc.read(config.PATHS.LOGS/'QC.h5ad')\n",
    "us.log(adata.shape)\n",
    "us.log('isspmatrix: {}'.format(isspmatrix(adata.X)))\n",
    "\n",
    "\n",
    "us.log('Loaded Filtered AnnData object: number of cells {}'.format(\n",
    "    adata.n_obs))\n",
    "us.log('Loaded Filtered AnnData object: number of genes {}'.format(\n",
    "    adata.n_vars) )\n",
    "us.log('Available metadata for each cell:  {}'.format(adata.obs.columns))"
   ]
  },
  {
   "cell_type": "markdown",
   "id": "21687ccb-9068-4ee1-94a6-ed3fb3bd2a7d",
   "metadata": {},
   "source": [
    "# Normalize and Log Transform data: Scanpy Normalization"
   ]
  },
  {
   "cell_type": "markdown",
   "id": "7a66e4aa-5426-4817-a51a-3a4c49aadd6b",
   "metadata": {},
   "source": [
    "Basic Scanpy CPM Normalization"
   ]
  },
  {
   "cell_type": "code",
   "execution_count": 5,
   "id": "ded6aedb-cee2-4a07-82f6-101d5f9d93ec",
   "metadata": {
    "tags": []
   },
   "outputs": [
    {
     "name": "stdout",
     "output_type": "stream",
     "text": [
      "normalizing counts per cell The following highly-expressed genes are not considered during normalization factor computation:\n",
      "['BCYRN1', 'TMSB10', 'SST', 'ACTB', 'TMSB4X', 'TIMP1', 'IGF2', 'FTH1', 'MALAT1', 'APOA1', 'TAC3', 'CRABP1', 'APOE', 'FTL', 'MGP', 'LUM']\n",
      "    finished (0:00:01)\n"
     ]
    }
   ],
   "source": [
    "adata.layers['counts'] = adata.X.copy()\n",
    "sc.pp.normalize_total(adata, target_sum=1e6, exclude_highly_expressed=True)\n",
    "sc.pp.log1p(adata)"
   ]
  },
  {
   "cell_type": "markdown",
   "id": "b2c73df4-95b5-4ada-a80e-3afe856e4a9b",
   "metadata": {},
   "source": [
    "Store normalized counts"
   ]
  },
  {
   "cell_type": "code",
   "execution_count": 6,
   "id": "107ac557-2f7f-4307-afb7-881fe0839d8e",
   "metadata": {
    "tags": []
   },
   "outputs": [],
   "source": [
    "adata.layers['lognormcounts'] = adata.X.copy()"
   ]
  },
  {
   "cell_type": "markdown",
   "id": "3f3956bf-529f-4841-8c72-3306367693e3",
   "metadata": {},
   "source": [
    "\n",
    "Alternative workflow: normalization by Scran\n",
    "References: Scran Paper | Scran R Vignette | Theis Scran Tutorial in scanpy |\n",
    "\n",
    "Normalizing cell-specific biases\n",
    "\n",
    "Cell-specific biases are normalized using the computeSumFactors() method, which implements the deconvolution strategy for scaling normalization (A. T. Lun, Bach, and Marioni 2016). This computes size factors that are used to scale the counts in each cell. The assumption is that most genes are not differentially expressed (DE) between cells , such that any differences in expression across the majority of genes represents some technical bias that should be removed.\n"
   ]
  },
  {
   "cell_type": "markdown",
   "id": "397a8b76-8b36-48db-bb84-eb7239b5206f",
   "metadata": {},
   "source": [
    "# Feature selection: Triku\n",
    "Sources: Triku Paper | Docs |\n",
    "\n",
    "The premise of triku is that, for genes with similar expression levels, the expression pattern can be categorized in three states:\n",
    "\n",
    "    i: the gene is expressed throughout the cells with similar expression levels (a): NO useful information about specific cell types associated to that gene\n",
    "    ii: the expression of the gene can be localized in a subset of cells, which can in turn be:\n",
    "        Transcriptomically different cells (b1) (i.e. cells that are not neighbours in the dimensionally reduced map)\n",
    "        Transcriptomically similar cells (b2) (neighbours): the gene is more probably biologically relevant for that population\n",
    "\n",
    "Triku aims to select genes of case (b2) while avoiding the selection of genes of case (a) and (b1).\n",
    "\n",
    "It does so by looking at the expression in the nearest neighbours\n",
    "PROs of this method:\n",
    "\n",
    "    selects more biologically relevant genes\n",
    "    avoids selection of mitocondrial and ribosomal genes\n",
    "    tends to select a lower number of HVGs aiding downstream computations\n",
    "\n",
    "The Algorithm\n",
    "\n",
    "    Create a neighbour graph by selecting the k cells with the most similar transcriptome to each cell in the dataset kNN:\n",
    "    For each gene:\n",
    "        Obtain the distribution of the the kNN counts summing the counts of each cell and its neighbors for each cell with positive expression in the dataset.\n",
    "        Simulate a null distribution, as above but considering k random cells instead of kNN ones.\n",
    "        Compare the kNN distribution with its corresponding null distribution ì\n",
    "        Compute the Wasserstein distance between both distributions\n",
    "    Normalize Wasserstein distances\n",
    "    Select the features with highest Wasserstein distance.\n"
   ]
  },
  {
   "cell_type": "markdown",
   "id": "fedbf1d5-831f-4b60-86dc-fde28eb51272",
   "metadata": {
    "tags": []
   },
   "source": [
    "## Compute neighbors"
   ]
  },
  {
   "cell_type": "code",
   "execution_count": 7,
   "id": "212208e6-d9f8-4af6-b3dd-f476cbe22b9e",
   "metadata": {
    "tags": []
   },
   "outputs": [
    {
     "name": "stdout",
     "output_type": "stream",
     "text": [
      "computing PCA\n",
      "    with n_comps=50\n",
      "    finished (0:00:52)\n",
      "computing neighbors\n",
      "    using 'X_pca' with n_pcs = 50\n"
     ]
    },
    {
     "name": "stderr",
     "output_type": "stream",
     "text": [
      "/home/vess/Distr/conda/envs/HT/lib/python3.9/site-packages/umap/distances.py:1063: NumbaDeprecationWarning: The 'nopython' keyword argument was not supplied to the 'numba.jit' decorator. The implicit default value for this argument is currently False, but it will be changed to True in Numba 0.59.0. See https://numba.readthedocs.io/en/stable/reference/deprecation.html#deprecation-of-object-mode-fall-back-behaviour-when-using-jit for details.\n",
      "  @numba.jit()\n",
      "/home/vess/Distr/conda/envs/HT/lib/python3.9/site-packages/tqdm/auto.py:21: TqdmWarning: IProgress not found. Please update jupyter and ipywidgets. See https://ipywidgets.readthedocs.io/en/stable/user_install.html\n",
      "  from .autonotebook import tqdm as notebook_tqdm\n",
      "/home/vess/Distr/conda/envs/HT/lib/python3.9/site-packages/umap/umap_.py:660: NumbaDeprecationWarning: The 'nopython' keyword argument was not supplied to the 'numba.jit' decorator. The implicit default value for this argument is currently False, but it will be changed to True in Numba 0.59.0. See https://numba.readthedocs.io/en/stable/reference/deprecation.html#deprecation-of-object-mode-fall-back-behaviour-when-using-jit for details.\n",
      "  @numba.jit()\n",
      "/home/vess/Distr/conda/envs/HT/lib/python3.9/site-packages/numba/np/ufunc/parallel.py:371: NumbaWarning: The TBB threading layer requires TBB version 2021 update 6 or later i.e., TBB_INTERFACE_VERSION >= 12060. Found TBB_INTERFACE_VERSION = 12050. The TBB threading layer is disabled.\n",
      "  warnings.warn(problem)\n"
     ]
    },
    {
     "name": "stdout",
     "output_type": "stream",
     "text": [
      "    finished: added to `.uns['neighbors']`\n",
      "    `.obsp['distances']`, distances for each pair of neighbors\n",
      "    `.obsp['connectivities']`, weighted adjacency matrix (0:00:53)\n"
     ]
    }
   ],
   "source": [
    "sc.pp.pca(adata, use_highly_variable=False)\n",
    "# specify in case you want to try different HVG selection methods \n",
    "sc.pp.neighbors(adata, metric='cosine', n_neighbors=int(0.5 * len(adata) ** 0.5)) "
   ]
  },
  {
   "cell_type": "markdown",
   "id": "613651d5-35a6-4894-bc09-3740965d8b01",
   "metadata": {},
   "source": [
    "## Identify HVG"
   ]
  },
  {
   "cell_type": "code",
   "execution_count": 8,
   "id": "63fb9de7-45da-44fb-87df-d07e9c25db6d",
   "metadata": {
    "tags": []
   },
   "outputs": [
    {
     "name": "stdout",
     "output_type": "stream",
     "text": [
      "Number of Higly Variable Genes\n"
     ]
    },
    {
     "data": {
      "text/plain": [
       "Index(['TDGF1', 'LINC00678', 'C9orf135', 'SMPDL3B', 'ZSCAN10', 'CLDN7',\n",
       "       'RP11-1144P22.1', 'NANOG', 'SCGB3A2', 'BGN', 'GPR160', 'FOXH1', 'PRODH',\n",
       "       'CDH1', 'CXCL5', 'POU5F1', 'SCNN1A', 'CYP1B1', 'L1TD1', 'UTF1'],\n",
       "      dtype='object')"
      ]
     },
     "execution_count": 8,
     "metadata": {},
     "output_type": "execute_result"
    }
   ],
   "source": [
    "tk.tl.triku(adata, use_raw=False)\n",
    "\n",
    "Top20Triku = adata.var.sort_values(by=['triku_distance'], ascending=False).head(20).index\n",
    "us.log('Number of Higly Variable Genes', len(adata.var_names[adata.var['highly_variable'] == True]))\n",
    "Top20Triku"
   ]
  },
  {
   "cell_type": "markdown",
   "id": "67428d80-9355-4625-a2ec-10c0bb7a1d81",
   "metadata": {},
   "source": [
    "Batch effect could influence HVG selection.\n",
    "\n",
    "You can consider to correct (e.g. with Harmony) the neighbors used to compute the HVGs. For this dataset we did not notice a big difference between the two procedures.  \n",
    "\n",
    "Alternative HVG approach using scanpy function\n",
    "\n",
    "    sc.pp.highly_variable_genes(adata) # n_top_genes=2000, #batch_key='batch'\n",
    "\n",
    "    sc.pl.highly_variable_genes(adata)\n",
    "\n",
    "    us.log('Number of Higly Variable Genes', len(adata.var_names[adata.var['highly_variable'] == True]))\n",
    "\n",
    "    adata.var['scanpy_highly_variable'] = adata.var['highly_variable']\n",
    "\n",
    "    adata.var['highly_variable'] = adata.var['triku_highly_variable']\n",
    "\n"
   ]
  },
  {
   "cell_type": "markdown",
   "id": "44dd758e-00a9-4f5a-816e-fa9afd1a5b22",
   "metadata": {},
   "source": [
    "# Save"
   ]
  },
  {
   "cell_type": "code",
   "execution_count": 9,
   "id": "e4e7557d-02ed-46a2-b03e-3c20e00c728c",
   "metadata": {
    "tags": []
   },
   "outputs": [
    {
     "name": "stdout",
     "output_type": "stream",
     "text": [
      "0:06:24.881018\n"
     ]
    }
   ],
   "source": [
    "del adata.uns['triku_params']\n",
    "adata.write(config.PATHS.LOGS/'Norm.h5ad')\n",
    "us.log(datetime.now() - time_start)"
   ]
  }
 ],
 "metadata": {
  "kernelspec": {
   "display_name": "Python 3 (ipykernel)",
   "language": "python",
   "name": "python3"
  },
  "language_info": {
   "codemirror_mode": {
    "name": "ipython",
    "version": 3
   },
   "file_extension": ".py",
   "mimetype": "text/x-python",
   "name": "python",
   "nbconvert_exporter": "python",
   "pygments_lexer": "ipython3",
   "version": "3.9.16"
  }
 },
 "nbformat": 4,
 "nbformat_minor": 5
}
